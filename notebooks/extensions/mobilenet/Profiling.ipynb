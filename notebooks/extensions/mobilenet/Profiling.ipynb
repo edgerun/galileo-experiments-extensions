{
 "cells": [
  {
   "cell_type": "markdown",
   "metadata": {},
   "source": [
    "# Profiling with galileo-experiments\n",
    "\n",
    "Galileo-experiments enables users to easily profile/benchmark applications on different hosts.\n",
    "This task focuses on the simple evaluation of one specific application (i.e., object detection) using one or multiple instances on a single host.\n",
    "\n",
    "The following section will execute an experiment that:\n",
    "1. Spawns `no_pods` Pods that contain a Mobilenet Inference OpenFaaS-based function\n",
    "2. Spawns `n_clients` clients that will each send `n` requests with an interarrival time of `ia`\n",
    "3. Afterwards, we show how to analyze the data with `galileojp`.\n",
    "\n",
    "In general, the workflow presented here can be used for all applications that are callable via HTTP.\n",
    "The following things are required to support other applications (defined in the abstract class `ProfilingApplication`):\n",
    "1. Implement a `pod_factory` function that takes 3 arguments (`pod_name`, `image`, `resource_requests`)\n",
    "   and returns a `kubernetes.client.V1Container`.\n",
    "2. Implement a function that spawns and returns a `ClientGroup`.\n",
    "   "
   ]
  },
  {
   "cell_type": "code",
   "execution_count": 2,
   "metadata": {},
   "outputs": [],
   "source": [
    "from galileo.shell.shell import init\n",
    "from galileo.worker.context import Context\n",
    "from galileoexperiments.api.model import ProfilingWorkloadConfiguration\n",
    "from galileoexperiments.experiment.profiling.run import run_profiling_workload\n",
    "\n",
    "from galileoexperimentsextensions.mobilenet.profiling.app import MobilenetProfilingApplication"
   ]
  },
  {
   "cell_type": "markdown",
   "metadata": {},
   "source": [
    "### Instantiate galileo context that includes all dependencies needed to execute an experiment"
   ]
  },
  {
   "cell_type": "code",
   "execution_count": 3,
   "metadata": {},
   "outputs": [],
   "source": [
    "ctx = Context()\n",
    "rds = ctx.create_redis()\n",
    "g = init(rds)"
   ]
  },
  {
   "cell_type": "markdown",
   "metadata": {},
   "source": [
    "### Configure mobilenet specific parameters (i.e., image_url) and define the function name"
   ]
  },
  {
   "cell_type": "code",
   "execution_count": 5,
   "metadata": {},
   "outputs": [],
   "source": [
    "params = {\n",
    "    'service': {\n",
    "        'name': 'mobilenet',\n",
    "        'image_url': 'https://i.imgur.com/0jx0gP8.png'\n",
    "    }\n",
    "}"
   ]
  },
  {
   "cell_type": "markdown",
   "metadata": {},
   "source": [
    "### Instantiate the Profiling Application that contains methods that spawn a container and return a ClientGroup"
   ]
  },
  {
   "cell_type": "code",
   "execution_count": 6,
   "metadata": {},
   "outputs": [],
   "source": [
    "mobilenet_profiling_app = MobilenetProfilingApplication()"
   ]
  },
  {
   "cell_type": "markdown",
   "metadata": {},
   "source": [
    "### Set experiment parameters"
   ]
  },
  {
   "cell_type": "code",
   "execution_count": 8,
   "metadata": {},
   "outputs": [],
   "source": [
    "creator = 'creator-name'\n",
    "host = 'test-host'\n",
    "image = 'edgerun/mobilenet-inference:1.1'\n",
    "zone = 'zone-test'\n",
    "master_node = 'master-node'"
   ]
  },
  {
   "cell_type": "markdown",
   "metadata": {},
   "source": [
    "### Create ProfilingWorkloadConfiguration"
   ]
  },
  {
   "cell_type": "code",
   "execution_count": 9,
   "metadata": {},
   "outputs": [],
   "source": [
    "workload_config = ProfilingWorkloadConfiguration(\n",
    "    creator=creator,\n",
    "    app_name=params['service']['name'],\n",
    "    host=host,\n",
    "    image=image,\n",
    "    master_node=master_node,\n",
    "    zone=zone,\n",
    "    context=g,\n",
    "    params=params,\n",
    "    profiling_app=mobilenet_profiling_app,\n",
    "    no_pods=1,\n",
    "    n=10,\n",
    "    ia=0.5,\n",
    "    n_clients=1\n",
    ")"
   ]
  },
  {
   "cell_type": "markdown",
   "metadata": {},
   "source": [
    "### Run the profiling workload"
   ]
  },
  {
   "cell_type": "code",
   "execution_count": null,
   "metadata": {},
   "outputs": [],
   "source": [
    "run_profiling_workload(workload_config)"
   ]
  }
 ],
 "metadata": {
  "kernelspec": {
   "display_name": "Python 3 (ipykernel)",
   "language": "python",
   "name": "python3"
  },
  "language_info": {
   "codemirror_mode": {
    "name": "ipython",
    "version": 3
   },
   "file_extension": ".py",
   "mimetype": "text/x-python",
   "name": "python",
   "nbconvert_exporter": "python",
   "pygments_lexer": "ipython3",
   "version": "3.9.10"
  }
 },
 "nbformat": 4,
 "nbformat_minor": 1
}